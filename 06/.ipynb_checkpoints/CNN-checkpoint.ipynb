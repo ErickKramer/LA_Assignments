{
 "cells": [
  {
   "cell_type": "code",
   "execution_count": 1,
   "metadata": {},
   "outputs": [
    {
     "name": "stderr",
     "output_type": "stream",
     "text": [
      "/home/swaroop/anaconda2/envs/tf-env/lib/python2.7/site-packages/h5py/__init__.py:36: FutureWarning: Conversion of the second argument of issubdtype from `float` to `np.floating` is deprecated. In future, it will be treated as `np.float64 == np.dtype(float).type`.\n",
      "  from ._conv import register_converters as _register_converters\n"
     ]
    },
    {
     "name": "stdout",
     "output_type": "stream",
     "text": [
      "WARNING:tensorflow:From /home/swaroop/anaconda2/envs/tf-env/lib/python2.7/site-packages/tensorflow/contrib/learn/python/learn/datasets/base.py:198: retry (from tensorflow.contrib.learn.python.learn.datasets.base) is deprecated and will be removed in a future version.\n",
      "Instructions for updating:\n",
      "Use the retry module or similar alternatives.\n"
     ]
    }
   ],
   "source": [
    "import tensorflow as tf\n",
    "import numpy as np\n",
    "import math\n",
    "import matplotlib.pyplot as plt\n",
    "from mpl_toolkits.axes_grid1 import ImageGrid\n",
    "from tensorflow.examples.tutorials.mnist import input_data"
   ]
  },
  {
   "cell_type": "markdown",
   "metadata": {},
   "source": [
    "# Building Adversarial for CNN"
   ]
  },
  {
   "cell_type": "code",
   "execution_count": 2,
   "metadata": {},
   "outputs": [
    {
     "name": "stdout",
     "output_type": "stream",
     "text": [
      "WARNING:tensorflow:From <ipython-input-2-1390ba3ba838>:1: read_data_sets (from tensorflow.contrib.learn.python.learn.datasets.mnist) is deprecated and will be removed in a future version.\n",
      "Instructions for updating:\n",
      "Please use alternatives such as official/mnist/dataset.py from tensorflow/models.\n",
      "WARNING:tensorflow:From /home/swaroop/anaconda2/envs/tf-env/lib/python2.7/site-packages/tensorflow/contrib/learn/python/learn/datasets/mnist.py:260: maybe_download (from tensorflow.contrib.learn.python.learn.datasets.base) is deprecated and will be removed in a future version.\n",
      "Instructions for updating:\n",
      "Please write your own downloading logic.\n",
      "WARNING:tensorflow:From /home/swaroop/anaconda2/envs/tf-env/lib/python2.7/site-packages/tensorflow/contrib/learn/python/learn/datasets/mnist.py:262: extract_images (from tensorflow.contrib.learn.python.learn.datasets.mnist) is deprecated and will be removed in a future version.\n",
      "Instructions for updating:\n",
      "Please use tf.data to implement this functionality.\n",
      "Extracting MNIST_data/train-images-idx3-ubyte.gz\n",
      "WARNING:tensorflow:From /home/swaroop/anaconda2/envs/tf-env/lib/python2.7/site-packages/tensorflow/contrib/learn/python/learn/datasets/mnist.py:267: extract_labels (from tensorflow.contrib.learn.python.learn.datasets.mnist) is deprecated and will be removed in a future version.\n",
      "Instructions for updating:\n",
      "Please use tf.data to implement this functionality.\n",
      "Extracting MNIST_data/train-labels-idx1-ubyte.gz\n",
      "WARNING:tensorflow:From /home/swaroop/anaconda2/envs/tf-env/lib/python2.7/site-packages/tensorflow/contrib/learn/python/learn/datasets/mnist.py:110: dense_to_one_hot (from tensorflow.contrib.learn.python.learn.datasets.mnist) is deprecated and will be removed in a future version.\n",
      "Instructions for updating:\n",
      "Please use tf.one_hot on tensors.\n",
      "Extracting MNIST_data/t10k-images-idx3-ubyte.gz\n",
      "Extracting MNIST_data/t10k-labels-idx1-ubyte.gz\n",
      "WARNING:tensorflow:From /home/swaroop/anaconda2/envs/tf-env/lib/python2.7/site-packages/tensorflow/contrib/learn/python/learn/datasets/mnist.py:290: __init__ (from tensorflow.contrib.learn.python.learn.datasets.mnist) is deprecated and will be removed in a future version.\n",
      "Instructions for updating:\n",
      "Please use alternatives such as official/mnist/dataset.py from tensorflow/models.\n"
     ]
    }
   ],
   "source": [
    "mnist = input_data.read_data_sets('MNIST_data', one_hot=True)"
   ]
  },
  {
   "cell_type": "markdown",
   "metadata": {},
   "source": [
    "## CNN model"
   ]
  },
  {
   "cell_type": "code",
   "execution_count": 3,
   "metadata": {},
   "outputs": [
    {
     "name": "stdout",
     "output_type": "stream",
     "text": [
      "WARNING:tensorflow:From <ipython-input-3-2aa7045217ae>:52: softmax_cross_entropy_with_logits (from tensorflow.python.ops.nn_ops) is deprecated and will be removed in a future version.\n",
      "Instructions for updating:\n",
      "\n",
      "Future major versions of TensorFlow will allow gradients to flow\n",
      "into the labels input on backprop by default.\n",
      "\n",
      "See tf.nn.softmax_cross_entropy_with_logits_v2.\n",
      "\n",
      "step 0, training accuracy 0.07\n",
      "step 200, training accuracy 0.93\n",
      "step 400, training accuracy 0.9\n",
      "test accuracy 0.958\n"
     ]
    }
   ],
   "source": [
    "sess = tf.InteractiveSession()\n",
    "def weight_variable(shape):\n",
    "    initial = tf.truncated_normal(shape, stddev=0.1)\n",
    "    return tf.Variable(initial)\n",
    "\n",
    "def bias_variable(shape):\n",
    "    initial = tf.constant(0.1, shape=shape)\n",
    "    return tf.Variable(initial)\n",
    "\n",
    "# Functions for convolution and pooling functions\n",
    "def conv2d(x, W):\n",
    "    return tf.nn.conv2d(x, W, strides=[1,1,1,1], padding='SAME')\n",
    "\n",
    "def max_pooling_2x2(x):\n",
    "    return tf.nn.max_pool(x, ksize=[1,2,2,1], strides=[1,2,2,1], padding='SAME')\n",
    "\n",
    "x = tf.placeholder(tf.float32, shape=[None, 784])\n",
    "y_ = tf.placeholder(tf.float32, shape=[None, 10])\n",
    "\n",
    "x_image = tf.reshape(x, [-1,28,28,1]) # mnist image comes in as 784 vector\n",
    "\n",
    "# Conv layer 1 - 32x5x5\n",
    "W_conv1 = weight_variable([5, 5, 1, 32])\n",
    "b_conv1 = bias_variable([32])\n",
    "x_conv1 = tf.nn.relu(conv2d(x_image, W_conv1) + b_conv1)\n",
    "x_pool1 = max_pooling_2x2(x_conv1)\n",
    "\n",
    "# Conv layer 2 - 64x5x5\n",
    "W_conv2 = weight_variable([5, 5, 32, 64])\n",
    "b_conv2 = bias_variable([64])\n",
    "x_conv2 = tf.nn.relu(conv2d(x_pool1, W_conv2) + b_conv2)\n",
    "x_pool2 = max_pooling_2x2(x_conv2)\n",
    "\n",
    "# Flatten - keras 'flatten'\n",
    "x_flat = tf.reshape(x_pool2, [-1, 7*7*64])\n",
    "\n",
    "# Dense fully connected layer\n",
    "W_fc1 = weight_variable([7 * 7 * 64, 1024]) # max pooling reduced image to 7x7\n",
    "b_fc1 = bias_variable([1024])\n",
    "x_fc1 = tf.nn.relu(tf.matmul(x_flat, W_fc1) + b_fc1)\n",
    "\n",
    "# Regularization with dropout\n",
    "keep_prob = tf.placeholder(tf.float32)\n",
    "x_fc1_drop = tf.nn.dropout(x_fc1, keep_prob)\n",
    "\n",
    "# Classification layer\n",
    "W_fc2 = weight_variable([1024, 10])\n",
    "b_fc2 = bias_variable([10])\n",
    "y_conv = tf.matmul(x_fc1_drop, W_fc2) + b_fc2\n",
    "y = tf.nn.softmax(y_conv)\n",
    "\n",
    "cross_entropy = tf.reduce_mean(tf.nn.softmax_cross_entropy_with_logits(labels=y_, logits=y_conv))\n",
    "train_step = tf.train.AdamOptimizer(1e-4).minimize(cross_entropy)\n",
    "correct_prediction = tf.equal(tf.argmax(y_conv,1), tf.argmax(y_,1))\n",
    "accuracy = tf.reduce_mean(tf.cast(correct_prediction, tf.float32))\n",
    "\n",
    "\n",
    "sess.run(tf.global_variables_initializer())\n",
    "\n",
    "\n",
    "for i in range(600):\n",
    "    batch = mnist.train.next_batch(100)\n",
    "    if i%200 == 0:\n",
    "        train_accuracy = accuracy.eval(feed_dict={x:batch[0], y_: batch[1], keep_prob: 1.0})\n",
    "        print(\"step %d, training accuracy %g\"%(i, train_accuracy))\n",
    "\n",
    "    train_step.run(feed_dict={x: batch[0], y_: batch[1], keep_prob: 0.4})\n",
    "    \n",
    "print(\"test accuracy %g\"%accuracy.eval(feed_dict={x: mnist.test.images[0:500], \n",
    "                                                  y_: mnist.test.labels[0:500], keep_prob: 1.0}))"
   ]
  },
  {
   "cell_type": "markdown",
   "metadata": {},
   "source": [
    "## Adversarial for CNN"
   ]
  },
  {
   "cell_type": "code",
   "execution_count": 4,
   "metadata": {},
   "outputs": [
    {
     "name": "stdout",
     "output_type": "stream",
     "text": [
      "Adversial accuracy 0.67\n"
     ]
    }
   ],
   "source": [
    "img_adv_list = list()\n",
    "y_label = [0,0,0,0,0,0,1,0,0,0]\n",
    "eps = 0.1\n",
    "index = 1\n",
    "\n",
    "for index in range(100):\n",
    "    image_norm = mnist.test.images[index]\n",
    "    image_norm = np.reshape(image_norm, (1, 784))\n",
    "\n",
    "    original_image = image_norm\n",
    "\n",
    "    loss =  tf.nn.softmax_cross_entropy_with_logits(labels=y_label, logits=y)\n",
    "    deriv = tf.gradients(loss, x)\n",
    "\n",
    "    image_adv = tf.stop_gradient(x - tf.sign(deriv)*eps)\n",
    "    image_adv = tf.clip_by_value(image_adv, 0, 1)\n",
    "\n",
    "    #dydx = sess.run(deriv, {x: x_image, keep_prob: 1.0}) \n",
    "    x_adv = sess.run(image_adv, {x: original_image, keep_prob: 1.0})\n",
    "    x_image = np.reshape(x_adv, (1, 784))\n",
    "    img_adv_list.append(np.squeeze(x_image))\n",
    "\n",
    "a = np.array(img_adv_list)\n",
    "print(\"Adversial accuracy %g\"%accuracy.eval(feed_dict={x: a, \n",
    "                                                   y_: mnist.test.labels[0:100], keep_prob: 1.0}))"
   ]
  },
  {
   "cell_type": "markdown",
   "metadata": {},
   "source": [
    "# Building Adversarial for logistic regression"
   ]
  },
  {
   "cell_type": "code",
   "execution_count": 6,
   "metadata": {},
   "outputs": [
    {
     "name": "stdout",
     "output_type": "stream",
     "text": [
      "('Epoch:', '0001', 'cost=', '1.184220838')\n",
      "('Epoch:', '0002', 'cost=', '0.665903673')\n",
      "('Epoch:', '0003', 'cost=', '0.551804216')\n",
      "('Epoch:', '0004', 'cost=', '0.498392707')\n",
      "('Epoch:', '0005', 'cost=', '0.464794250')\n",
      "('Epoch:', '0006', 'cost=', '0.440419118')\n",
      "('Epoch:', '0007', 'cost=', '0.429076707')\n",
      "('Epoch:', '0008', 'cost=', '0.412730855')\n",
      "('Epoch:', '0009', 'cost=', '0.400757651')\n",
      "('Epoch:', '0010', 'cost=', '0.392332228')\n",
      "('Epoch:', '0011', 'cost=', '0.384225340')\n",
      "('Epoch:', '0012', 'cost=', '0.378427407')\n",
      "('Epoch:', '0013', 'cost=', '0.371771220')\n",
      "('Epoch:', '0014', 'cost=', '0.369578379')\n",
      "('Epoch:', '0015', 'cost=', '0.359863018')\n",
      "('Epoch:', '0016', 'cost=', '0.359782431')\n",
      "('Epoch:', '0017', 'cost=', '0.355925974')\n",
      "('Epoch:', '0018', 'cost=', '0.351616819')\n",
      "('Epoch:', '0019', 'cost=', '0.347447850')\n",
      "('Epoch:', '0020', 'cost=', '0.343778826')\n",
      "('Epoch:', '0021', 'cost=', '0.344152260')\n",
      "('Epoch:', '0022', 'cost=', '0.339711116')\n",
      "('Epoch:', '0023', 'cost=', '0.338246835')\n",
      "('Epoch:', '0024', 'cost=', '0.337168307')\n",
      "('Epoch:', '0025', 'cost=', '0.332706073')\n",
      "Optimization Finished!\n",
      "('Accuracy:', 0.9139)\n",
      "(10000, 784)\n",
      "('Accuracy for adversarial', 0.7)\n"
     ]
    }
   ],
   "source": [
    "x_train = mnist.train.images\n",
    "y_train = mnist.train.labels\n",
    "x_test = mnist.test.images\n",
    "y_test = mnist.test.labels\n",
    "\n",
    "learning_rate = 0.01\n",
    "training_epochs = 25\n",
    "batch_size = 100\n",
    "display_step = 1\n",
    "\n",
    "# tf Graph Input\n",
    "x_logistic = tf.placeholder(tf.float32, [None, 784]) # mnist data image of shape 28*28=784\n",
    "#print(x)\n",
    "y_logistic = tf.placeholder(tf.float32, [None, 10]) # 0-9 digits recognition => 10 classes\n",
    "\n",
    "# Set model weights\n",
    "W_logistic = tf.Variable(tf.zeros([784, 10]))\n",
    "b_logistic = tf.Variable(tf.zeros([10]))\n",
    "\n",
    "# Construct model\n",
    "pred_logistic = tf.nn.softmax(tf.matmul(x_logistic, W_logistic) + b_logistic) # Softmax\n",
    "\n",
    "# Minimize error using cross entropy\n",
    "cost_logistic = tf.reduce_mean(-tf.reduce_sum(y_logistic*tf.log(pred_logistic), reduction_indices=1))\n",
    "grads_logistic = tf.gradients(cost_logistic, [x_logistic])[0]\n",
    "\n",
    "\n",
    "\n",
    "# Gradient Descent\n",
    "optimizer = tf.train.GradientDescentOptimizer(learning_rate).minimize(cost_logistic)\n",
    "\n",
    "# Initialize the variables (i.e. assign their default value)\n",
    "\n",
    "# Run the initializer\n",
    "sess.run(tf.global_variables_initializer())\n",
    "\n",
    "# Training cycle\n",
    "for epoch in range(training_epochs):\n",
    "    avg_cost = 0.\n",
    "    total_batch = int(mnist.train.num_examples/batch_size)\n",
    "    # Loop over all batches\n",
    "    for i in range(total_batch):\n",
    "        batch_xs, batch_ys = mnist.train.next_batch(batch_size)\n",
    "        # Run optimization op (backprop) and cost op (to get loss value)\n",
    "        _, c = sess.run([optimizer, cost_logistic], feed_dict={x_logistic: batch_xs,\n",
    "                                                      y_logistic: batch_ys})\n",
    "        # Compute average loss\n",
    "        avg_cost += c / total_batch\n",
    "    # Display logs per epoch step\n",
    "    if (epoch+1) % display_step == 0:\n",
    "        print(\"Epoch:\", '%04d' % (epoch+1), \"cost=\", \"{:.9f}\".format(avg_cost))\n",
    "\n",
    "print(\"Optimization Finished!\")\n",
    "\n",
    "# Test model\n",
    "correct_prediction = tf.equal(tf.argmax(pred_logistic, 1), tf.argmax(y_logistic, 1))\n",
    "# Calculate accuracy\n",
    "accuracy_logistic = tf.reduce_mean(tf.cast(correct_prediction, tf.float32))\n",
    "print(\"Accuracy:\", accuracy_logistic.eval(feed_dict={x_logistic: mnist.test.images, y_logistic: mnist.test.labels}))\n",
    "eps = 0.1\n",
    "gradients = sess.run(grads_logistic,feed_dict={x_logistic: mnist.test.images ,y_logistic: mnist.test.labels})\n",
    "print np.shape(gradients)\n",
    "adversial_image = list()\n",
    "for i in range(100):\n",
    "    adversial_image.append(mnist.test.images[i] + eps * np.sign(gradients[mnist.test.labels.tolist()[i].index(1.0)]))\n",
    "print(\"Accuracy for adversarial\", accuracy_logistic.eval(feed_dict={x_logistic: adversial_image, y_logistic: mnist.test.labels[:100]}))\n"
   ]
  },
  {
   "cell_type": "markdown",
   "metadata": {},
   "source": [
    "# Using adversarial of CNN for logistic regression"
   ]
  },
  {
   "cell_type": "code",
   "execution_count": 8,
   "metadata": {},
   "outputs": [
    {
     "name": "stdout",
     "output_type": "stream",
     "text": [
      "('Accuracy for adversarial', 0.93)\n"
     ]
    }
   ],
   "source": [
    "print(\"Accuracy for adversarial\", accuracy_logistic.eval(feed_dict={x_logistic: a, y_logistic: mnist.test.labels[:100]}))"
   ]
  },
  {
   "cell_type": "markdown",
   "metadata": {},
   "source": [
    "# Using adversarial of logistic for CNN"
   ]
  },
  {
   "cell_type": "code",
   "execution_count": 9,
   "metadata": {},
   "outputs": [
    {
     "name": "stdout",
     "output_type": "stream",
     "text": [
      "Adversial accuracy 0.22\n"
     ]
    }
   ],
   "source": [
    "print(\"Adversial accuracy %g\"%accuracy.eval(feed_dict={x: a, \n",
    "                                                   y_: mnist.test.labels[0:100], keep_prob: 1.0}))"
   ]
  },
  {
   "cell_type": "code",
   "execution_count": null,
   "metadata": {},
   "outputs": [],
   "source": []
  }
 ],
 "metadata": {
  "kernelspec": {
   "display_name": "Python 3",
   "language": "python",
   "name": "python3"
  },
  "language_info": {
   "codemirror_mode": {
    "name": "ipython",
    "version": 3
   },
   "file_extension": ".py",
   "mimetype": "text/x-python",
   "name": "python",
   "nbconvert_exporter": "python",
   "pygments_lexer": "ipython3",
   "version": "3.5.5"
  }
 },
 "nbformat": 4,
 "nbformat_minor": 2
}
