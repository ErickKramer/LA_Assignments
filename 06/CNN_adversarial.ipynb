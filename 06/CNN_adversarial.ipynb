{
 "cells": [
  {
   "cell_type": "code",
   "execution_count": 1,
   "metadata": {},
   "outputs": [],
   "source": [
    "import  tensorflow as tf\n",
    "import numpy as np\n",
    "import matplotlib.pyplot as plt\n",
    "%matplotlib inline\n",
    "from tensorflow.examples.tutorials.mnist import input_data\n",
    "from tqdm import tqdm"
   ]
  },
  {
   "cell_type": "code",
   "execution_count": 3,
   "metadata": {},
   "outputs": [
    {
     "name": "stdout",
     "output_type": "stream",
     "text": [
      "Extracting MNIST_data/train-images-idx3-ubyte.gz\n",
      "Extracting MNIST_data/train-labels-idx1-ubyte.gz\n",
      "Extracting MNIST_data/t10k-images-idx3-ubyte.gz\n",
      "Extracting MNIST_data/t10k-labels-idx1-ubyte.gz\n"
     ]
    },
    {
     "data": {
      "image/png": "[encoded data removed]",
      "text/plain": [
       "<Figure size 432x288 with 1 Axes>"
      ]
     },
     "metadata": {},
     "output_type": "display_data"
    }
   ],
   "source": [
    "#Get the mnist data\n",
    "mnist = input_data.read_data_sets(\"MNIST_data/\", one_hot=True)\n",
    "\n",
    "#set the parameters\n",
    "image_size = 28\n",
    "labels_size = 10\n",
    "learning_rate = 0.01\n",
    "steps_number = 1000\n",
    "batch_size = 100\n",
    "\n",
    "# In this example, we limit mnist data\n",
    "Xtr, Ytr = mnist.train.next_batch(5000) #5000 for training (nn candidates)\n",
    "Xte, Yte = mnist.test.next_batch(200) #200 for testing\n",
    "\n",
    "\n",
    "# Placeholder is a value that we input when we ask TensorFlow to run a computation.# Place \n",
    "x = tf.placeholder(tf.float32, shape = [None,784])\n",
    "y_ = tf.placeholder(tf.float32, shape = [None, 10])\n",
    "\n",
    "sample_image = mnist.train.next_batch(1)[0]\n",
    "sample_image = sample_image.reshape([28, 28])\n",
    "plt.imshow(sample_image)\n",
    "\n",
    "# Functions for weights\n",
    "def weight_variable(shape):\n",
    "    initial = tf.truncated_normal(shape, stddev=0.1)\n",
    "    return tf.Variable(initial)\n",
    "\n",
    "# Function for bias\n",
    "def bias_variable(shape):\n",
    "    initial = tf.constant(0.1, shape=shape)\n",
    "    return tf.Variable(initial)\n",
    "\n",
    "# Functions for convolution with stride = 1 and padding = 0\n",
    "def conv2d(x, W):\n",
    "    return tf.nn.conv2d(x, W, strides=[1,1,1,1], padding='SAME')\n",
    "\n",
    "# Function for max pooling over 2*2 blocks\n",
    "def max_pooling_2x2(x):\n",
    "    return tf.nn.max_pool(x, ksize=[1,2,2,1], strides=[1,2,2,1], padding='SAME')\n",
    "\n",
    "#plt.imshow(image.reshape((28,28)), cmap='Greys')"
   ]
  },
  {
   "cell_type": "code",
   "execution_count": 4,
   "metadata": {},
   "outputs": [],
   "source": [
    "# The architecture is similar to https://www.tensorflow.org/get_started/mnist/pros\n",
    "\n",
    "# Input layer where single input image shape is (1,784)\n",
    "x_image = tf.reshape(x, [-1,28,28,1])\n",
    "\n",
    "# Convolution layer 1 - 32 x 5 x 5 \n",
    "# Conv -> BatchNorm -> Relu -> Max_pool\n",
    "W_conv1 = weight_variable([5, 5, 1, 32])\n",
    "b_conv1 = bias_variable([32])\n",
    "x_conv1 = conv2d(x_image, W_conv1) + b_conv1\n",
    "y1 = tf.nn.relu(tf.layers.batch_normalization(x_conv1))\n",
    "x_pool1 = max_pooling_2x2(y1)\n",
    "\n",
    "# Conv layer 2 - 64 x 5 x 5\n",
    "# Conv -> BatchNorm -> Relu -> Max_pool\n",
    "W_conv2 = weight_variable([5, 5, 32, 64])\n",
    "b_conv2 = bias_variable([64])\n",
    "x_conv2 = conv2d(x_pool1, W_conv2) + b_conv2\n",
    "y2 = tf.nn.relu(tf.layers.batch_normalization(x_conv2))\n",
    "x_pool2 = max_pooling_2x2(y2)\n",
    "\n",
    "# Flatten \n",
    "x_flat = tf.reshape(x_pool2, [-1, 7 * 7 * 64])\n",
    "\n",
    "# Dense fully connected layer\n",
    "W_fc1 = weight_variable([7 * 7 * 64, 1024]) # max pooling reduced image to 7x7\n",
    "b_fc1 = bias_variable([1024])\n",
    "x_fc1 = tf.nn.relu(tf.layers.batch_normalization(tf.matmul(x_flat, W_fc1) + b_fc1))\n",
    "\n",
    "# Dropout\n",
    "keep_prob = tf.placeholder(tf.float32)\n",
    "x_fc1_drop = tf.nn.dropout(x_fc1, keep_prob)\n",
    "\n",
    "# Classification layer\n",
    "W_fc2 = weight_variable([1024, 10])\n",
    "b_fc2 = bias_variable([10])\n",
    "y_conv = tf.matmul(x_fc1_drop, W_fc2) + b_fc2"
   ]
  },
  {
   "cell_type": "code",
   "execution_count": 6,
   "metadata": {},
   "outputs": [],
   "source": [
    "# Probabilities output from model\n",
    "y = tf.nn.softmax(y_conv)\n",
    "\n",
    "# Loss and Adam optimizer\n",
    "cross_entropy = tf.reduce_mean(tf.nn.softmax_cross_entropy_with_logits(labels = y_, logits=y_conv))\n",
    "train_step = tf.train.AdamOptimizer(1e-4).minimize(cross_entropy)"
   ]
  },
  {
   "cell_type": "code",
   "execution_count": 7,
   "metadata": {},
   "outputs": [],
   "source": [
    "# Test accuracy of model# Test  \n",
    "correct_prediction = tf.equal(tf.argmax(y_conv,1), tf.argmax(y_,1))\n",
    "accuracy = tf.reduce_mean(tf.cast(correct_prediction, tf.float32))"
   ]
  },
  {
   "cell_type": "code",
   "execution_count": 8,
   "metadata": {},
   "outputs": [],
   "source": [
    "sess = tf.InteractiveSession()\n",
    "sess.run(tf.global_variables_initializer())"
   ]
  },
  {
   "cell_type": "code",
   "execution_count": 9,
   "metadata": {},
   "outputs": [
    {
     "name": "stderr",
     "output_type": "stream",
     "text": [
      "\r",
      "  0%|          | 0/1000 [00:00<?, ?it/s]"
     ]
    },
    {
     "name": "stdout",
     "output_type": "stream",
     "text": [
      "Epoch 0, training accuracy 0.23\n"
     ]
    },
    {
     "name": "stderr",
     "output_type": "stream",
     "text": [
      " 20%|██        | 200/1000 [01:24<05:39,  2.35it/s]"
     ]
    },
    {
     "name": "stdout",
     "output_type": "stream",
     "text": [
      "Epoch 200, training accuracy 0.94\n"
     ]
    },
    {
     "name": "stderr",
     "output_type": "stream",
     "text": [
      " 40%|████      | 400/1000 [02:49<04:14,  2.35it/s]"
     ]
    },
    {
     "name": "stdout",
     "output_type": "stream",
     "text": [
      "Epoch 400, training accuracy 0.95\n"
     ]
    },
    {
     "name": "stderr",
     "output_type": "stream",
     "text": [
      " 60%|██████    | 600/1000 [04:14<02:49,  2.35it/s]"
     ]
    },
    {
     "name": "stdout",
     "output_type": "stream",
     "text": [
      "Epoch 600, training accuracy 0.97\n"
     ]
    },
    {
     "name": "stderr",
     "output_type": "stream",
     "text": [
      " 80%|████████  | 800/1000 [05:40<01:25,  2.35it/s]"
     ]
    },
    {
     "name": "stdout",
     "output_type": "stream",
     "text": [
      "Epoch 800, training accuracy 0.97\n"
     ]
    },
    {
     "name": "stderr",
     "output_type": "stream",
     "text": [
      "100%|██████████| 1000/1000 [07:07<00:00,  2.34it/s]\n"
     ]
    }
   ],
   "source": [
    "# Train model\n",
    "for i in tqdm(range(1000)):\n",
    "    batch = mnist.train.next_batch(100)\n",
    "    if i%200 == 0:\n",
    "        train_accuracy = accuracy.eval(feed_dict={x:batch[0], y_: batch[1], keep_prob: 1.0})\n",
    "        print(\"Epoch %d, training accuracy %g\"%(i, train_accuracy))\n",
    "\n",
    "    train_step.run(feed_dict={x: batch[0], y_: batch[1], keep_prob: 0.4})\n"
   ]
  },
  {
   "cell_type": "code",
   "execution_count": 10,
   "metadata": {},
   "outputs": [
    {
     "name": "stdout",
     "output_type": "stream",
     "text": [
      "0.97\n",
      "[0. 0. 0. ... 0. 0. 0.]\n"
     ]
    },
    {
     "data": {
      "text/plain": [
       "'./classifier'"
      ]
     },
     "execution_count": 10,
     "metadata": {},
     "output_type": "execute_result"
    }
   ],
   "source": [
    "print(train_accuracy)\n",
    "print((mnist.test.labels[:,2]))\n",
    "#Save model\n",
    "saver = tf.train.Saver()\n",
    "saver.save(sess, \"./classifier\")"
   ]
  },
  {
   "cell_type": "code",
   "execution_count": 11,
   "metadata": {},
   "outputs": [
    {
     "name": "stdout",
     "output_type": "stream",
     "text": [
      "[  16   25   28 ... 9976 9987 9989]\n",
      "[4925  704 3381 1954 7267 4553 1553 9102 8891 9710]\n"
     ]
    }
   ],
   "source": [
    "# Fetch 10 2's images\n",
    "index_mask = np.where(mnist.test.labels[:, 2])[0]\n",
    "print(index_mask)\n",
    "subset_mask = np.random.choice(index_mask, 10)\n",
    "print(subset_mask)"
   ]
  },
  {
   "cell_type": "code",
   "execution_count": 12,
   "metadata": {},
   "outputs": [
    {
     "data": {
      "text/plain": [
       "array([[0., 0., 1., 0., 0., 0., 0., 0., 0., 0.],\n",
       "       [0., 0., 1., 0., 0., 0., 0., 0., 0., 0.],\n",
       "       [0., 0., 1., 0., 0., 0., 0., 0., 0., 0.],\n",
       "       [0., 0., 1., 0., 0., 0., 0., 0., 0., 0.],\n",
       "       [0., 0., 1., 0., 0., 0., 0., 0., 0., 0.],\n",
       "       [0., 0., 1., 0., 0., 0., 0., 0., 0., 0.],\n",
       "       [0., 0., 1., 0., 0., 0., 0., 0., 0., 0.],\n",
       "       [0., 0., 1., 0., 0., 0., 0., 0., 0., 0.],\n",
       "       [0., 0., 1., 0., 0., 0., 0., 0., 0., 0.],\n",
       "       [0., 0., 1., 0., 0., 0., 0., 0., 0., 0.]])"
      ]
     },
     "execution_count": 12,
     "metadata": {},
     "output_type": "execute_result"
    }
   ],
   "source": [
    "# Display the labels of the selected images\n",
    "original_images = mnist.test.images[subset_mask]\n",
    "original_labels = mnist.test.labels[subset_mask]\n",
    "original_labels"
   ]
  },
  {
   "cell_type": "code",
   "execution_count": 13,
   "metadata": {},
   "outputs": [
    {
     "name": "stdout",
     "output_type": "stream",
     "text": [
      "('predictions', array([2, 2, 2, 2, 2, 2, 2, 2, 2, 2]))\n",
      "('probabilities', array([[1.96349191e-07, 9.72802994e-08, 9.99975801e-01, 1.34451375e-06,\n",
      "        6.35685282e-08, 6.07297190e-09, 1.97090046e-07, 1.55993393e-06,\n",
      "        2.03088621e-05, 4.46419051e-07],\n",
      "       [8.48469135e-05, 1.22998562e-03, 9.87301588e-01, 7.66188547e-04,\n",
      "        2.45977867e-06, 4.56309817e-06, 4.84290831e-05, 1.62100579e-04,\n",
      "        1.03789745e-02, 2.08892052e-05],\n",
      "       [4.08220740e-06, 1.00414822e-04, 9.97951567e-01, 1.36109593e-03,\n",
      "        1.11832684e-07, 1.04807964e-06, 4.49419161e-07, 4.83789685e-04,\n",
      "        9.25677959e-05, 4.84824022e-06],\n",
      "       [2.23880008e-04, 2.34390518e-06, 9.99373138e-01, 1.91191066e-04,\n",
      "        2.71834483e-06, 8.50693978e-05, 1.14073600e-05, 8.79870277e-05,\n",
      "        1.21786752e-05, 1.00767375e-05],\n",
      "       [2.95604764e-06, 7.96677625e-07, 9.99906063e-01, 7.25903328e-06,\n",
      "        1.96749370e-05, 5.15450402e-08, 2.79897768e-06, 9.19672584e-06,\n",
      "        4.92448407e-06, 4.62926509e-05],\n",
      "       [3.07636554e-07, 2.75287249e-07, 9.99935985e-01, 5.27705088e-05,\n",
      "        4.14468140e-08, 4.91637664e-08, 1.67188617e-07, 9.71267218e-06,\n",
      "        7.13888312e-07, 5.10446725e-08],\n",
      "       [6.43160136e-04, 1.05427473e-03, 9.09322381e-01, 1.07494891e-02,\n",
      "        5.26274853e-05, 9.75494731e-06, 3.47335435e-06, 7.44891539e-02,\n",
      "        1.37810665e-03, 2.29755207e-03],\n",
      "       [1.03315098e-04, 1.59150688e-04, 9.92973089e-01, 3.04314448e-03,\n",
      "        2.33999599e-05, 1.23619848e-05, 5.82159510e-06, 2.01409264e-03,\n",
      "        1.51338347e-03, 1.52313296e-04],\n",
      "       [1.11029010e-04, 1.00383484e-04, 9.98852015e-01, 6.24211621e-04,\n",
      "        3.07224254e-05, 1.48532636e-05, 7.62724521e-05, 2.29241846e-06,\n",
      "        1.76579342e-04, 1.17135041e-05],\n",
      "       [3.05347094e-05, 1.24109589e-04, 9.93880033e-01, 4.87265596e-03,\n",
      "        1.05070376e-06, 3.53331120e-06, 7.10771974e-06, 2.88145952e-06,\n",
      "        1.07361702e-03, 4.45125806e-06]], dtype=float32))\n"
     ]
    }
   ],
   "source": [
    "# Predict the model on the selected 10 2's samples# Predic \n",
    "prediction = tf.argmax(y,1)\n",
    "prediction_val = prediction.eval(feed_dict={x: original_images, keep_prob: 1.0}, session=sess)\n",
    "print(\"predictions\", prediction_val)\n",
    "probabilities = y\n",
    "probabilities_val = probabilities.eval(feed_dict={x: original_images, keep_prob: 1.0}, session=sess)\n",
    "print (\"probabilities\", probabilities_val)"
   ]
  },
  {
   "cell_type": "code",
   "execution_count": 14,
   "metadata": {},
   "outputs": [
    {
     "name": "stdout",
     "output_type": "stream",
     "text": [
      "('Correct label', 2)\n",
      "('Predicted label:', 2)\n",
      "('Confidence:', 0.9999758)\n"
     ]
    },
    {
     "data": {
      "image/png": "[encoded data removed]",
      "text/plain": [
       "<Figure size 144x144 with 1 Axes>"
      ]
     },
     "metadata": {},
     "output_type": "display_data"
    },
    {
     "name": "stdout",
     "output_type": "stream",
     "text": [
      "('Correct label', 2)\n",
      "('Predicted label:', 2)\n",
      "('Confidence:', 0.9873016)\n"
     ]
    },
    {
     "data": {
      "image/png": "[encoded data removed]",
      "text/plain": [
       "<Figure size 144x144 with 1 Axes>"
      ]
     },
     "metadata": {},
     "output_type": "display_data"
    },
    {
     "name": "stdout",
     "output_type": "stream",
     "text": [
      "('Correct label', 2)\n",
      "('Predicted label:', 2)\n",
      "('Confidence:', 0.99795157)\n"
     ]
    },
    {
     "data": {
      "image/png": "[encoded data removed]",
      "text/plain": [
       "<Figure size 144x144 with 1 Axes>"
      ]
     },
     "metadata": {},
     "output_type": "display_data"
    },
    {
     "name": "stdout",
     "output_type": "stream",
     "text": [
      "('Correct label', 2)\n",
      "('Predicted label:', 2)\n",
      "('Confidence:', 0.99937314)\n"
     ]
    },
    {
     "data": {
      "image/png": "[encoded data removed]",
      "text/plain": [
       "<Figure size 144x144 with 1 Axes>"
      ]
     },
     "metadata": {},
     "output_type": "display_data"
    },
    {
     "name": "stdout",
     "output_type": "stream",
     "text": [
      "('Correct label', 2)\n",
      "('Predicted label:', 2)\n",
      "('Confidence:', 0.99990606)\n"
     ]
    },
    {
     "data": {
      "image/png": "[encoded data removed]",
      "text/plain": [
       "<Figure size 144x144 with 1 Axes>"
      ]
     },
     "metadata": {},
     "output_type": "display_data"
    },
    {
     "name": "stdout",
     "output_type": "stream",
     "text": [
      "('Correct label', 2)\n",
      "('Predicted label:', 2)\n",
      "('Confidence:', 0.999936)\n"
     ]
    },
    {
     "data": {
      "image/png": "[encoded data removed]",
      "text/plain": [
       "<Figure size 144x144 with 1 Axes>"
      ]
     },
     "metadata": {},
     "output_type": "display_data"
    },
    {
     "name": "stdout",
     "output_type": "stream",
     "text": [
      "('Correct label', 2)\n",
      "('Predicted label:', 2)\n",
      "('Confidence:', 0.9093224)\n"
     ]
    },
    {
     "data": {
      "image/png": "[encoded data removed]",
      "text/plain": [
       "<Figure size 144x144 with 1 Axes>"
      ]
     },
     "metadata": {},
     "output_type": "display_data"
    },
    {
     "name": "stdout",
     "output_type": "stream",
     "text": [
      "('Correct label', 2)\n",
      "('Predicted label:', 2)\n",
      "('Confidence:', 0.9929731)\n"
     ]
    },
    {
     "data": {
      "image/png": "[encoded data removed]",
      "text/plain": [
       "<Figure size 144x144 with 1 Axes>"
      ]
     },
     "metadata": {},
     "output_type": "display_data"
    },
    {
     "name": "stdout",
     "output_type": "stream",
     "text": [
      "('Correct label', 2)\n",
      "('Predicted label:', 2)\n",
      "('Confidence:', 0.998852)\n"
     ]
    },
    {
     "data": {
      "image/png": "[encoded data removed]",
      "text/plain": [
       "<Figure size 144x144 with 1 Axes>"
      ]
     },
     "metadata": {},
     "output_type": "display_data"
    },
    {
     "name": "stdout",
     "output_type": "stream",
     "text": [
      "('Correct label', 2)\n",
      "('Predicted label:', 2)\n",
      "('Confidence:', 0.99388003)\n"
     ]
    },
    {
     "data": {
      "image/png": "[encoded data removed]",
      "text/plain": [
       "<Figure size 144x144 with 1 Axes>"
      ]
     },
     "metadata": {},
     "output_type": "display_data"
    }
   ],
   "source": [
    "# Show the original images, correct, predicted label and confidence\n",
    "for i in range(0, 10):\n",
    "    print('Correct label', np.argmax(original_labels[i]))\n",
    "    print('Predicted label:', prediction_val[i])\n",
    "    print('Confidence:', np.max(probabilities_val[i]))\n",
    "    plt.figure(figsize=(2, 2))\n",
    "    plt.axis('off')\n",
    "    plt.imshow(original_images[i].reshape([28, 28]),cmap = \"gray\")\n",
    "    plt.show()"
   ]
  },
  {
   "cell_type": "code",
   "execution_count": 15,
   "metadata": {},
   "outputs": [],
   "source": [
    "# Set the target label as 6\n",
    "target_number = 6\n",
    "target_labels = np.zeros(original_labels.shape)\n",
    "target_labels[:, target_number] = 1"
   ]
  },
  {
   "cell_type": "code",
   "execution_count": 16,
   "metadata": {},
   "outputs": [
    {
     "data": {
      "text/plain": [
       "array([[0., 0., 0., 0., 0., 0., 1., 0., 0., 0.],\n",
       "       [0., 0., 0., 0., 0., 0., 1., 0., 0., 0.],\n",
       "       [0., 0., 0., 0., 0., 0., 1., 0., 0., 0.],\n",
       "       [0., 0., 0., 0., 0., 0., 1., 0., 0., 0.],\n",
       "       [0., 0., 0., 0., 0., 0., 1., 0., 0., 0.],\n",
       "       [0., 0., 0., 0., 0., 0., 1., 0., 0., 0.],\n",
       "       [0., 0., 0., 0., 0., 0., 1., 0., 0., 0.],\n",
       "       [0., 0., 0., 0., 0., 0., 1., 0., 0., 0.],\n",
       "       [0., 0., 0., 0., 0., 0., 1., 0., 0., 0.],\n",
       "       [0., 0., 0., 0., 0., 0., 1., 0., 0., 0.]])"
      ]
     },
     "execution_count": 16,
     "metadata": {},
     "output_type": "execute_result"
    }
   ],
   "source": [
    "target_labels"
   ]
  },
  {
   "cell_type": "code",
   "execution_count": 17,
   "metadata": {},
   "outputs": [],
   "source": [
    "img_gradient = tf.gradients(cross_entropy, x)[0]"
   ]
  },
  {
   "cell_type": "code",
   "execution_count": 18,
   "metadata": {},
   "outputs": [],
   "source": [
    "step_size  = 0.5 #The amount to wiggle towards the gradient of target class.\n",
    "steps = 10"
   ]
  },
  {
   "cell_type": "code",
   "execution_count": 19,
   "metadata": {},
   "outputs": [
    {
     "name": "stdout",
     "output_type": "stream",
     "text": [
      "('predictions', array([2, 2, 2, 2, 2, 2, 2, 2, 2, 2]))\n",
      "('Confidence 2:', array([0.9998406 , 0.9467898 , 0.99398416, 0.9967961 , 0.99945825,\n",
      "       0.99981993, 0.7674244 , 0.9730647 , 0.9948192 , 0.9725176 ],\n",
      "      dtype=float32))\n",
      "('Confidence 6:', array([4.1614312e-06, 5.0363934e-04, 7.4737086e-06, 2.4054844e-04,\n",
      "       5.3162992e-05, 3.6868778e-06, 3.7352653e-05, 1.3216966e-04,\n",
      "       1.5324405e-03, 1.7005303e-04], dtype=float32))\n",
      "('predictions', array([2, 2, 2, 2, 2, 2, 2, 2, 2, 2]))\n",
      "('Confidence 2:', array([0.9991673 , 0.8331668 , 0.9813083 , 0.9778621 , 0.9964563 ,\n",
      "       0.9994153 , 0.61528224, 0.901837  , 0.9642735 , 0.88394135],\n",
      "      dtype=float32))\n",
      "('Confidence 6:', array([6.9672336e-05, 4.3635354e-03, 1.1444363e-04, 5.5032871e-03,\n",
      "       1.0660667e-03, 9.4879353e-05, 2.8105176e-04, 3.2003936e-03,\n",
      "       2.3129202e-02, 2.6766141e-03], dtype=float32))\n",
      "('predictions', array([2, 2, 2, 2, 2, 2, 2, 2, 2, 2]))\n",
      "('Confidence 2:', array([0.9961981 , 0.67727256, 0.9477887 , 0.8692772 , 0.97685856,\n",
      "       0.9970938 , 0.58162755, 0.75709826, 0.8078436 , 0.705569  ],\n",
      "      dtype=float32))\n",
      "('Confidence 6:', array([0.00072754, 0.02430542, 0.00133785, 0.06861231, 0.01302979,\n",
      "       0.00137506, 0.00131679, 0.03004685, 0.16313824, 0.02065428],\n",
      "      dtype=float32))\n",
      "('predictions', array([2, 2, 2, 2, 2, 2, 2, 2, 6, 2]))\n",
      "('Confidence 2:', array([0.9830442 , 0.5598895 , 0.8726253 , 0.5328796 , 0.8508848 ,\n",
      "       0.9808615 , 0.5282889 , 0.5798421 , 0.44968662, 0.51906747],\n",
      "      dtype=float32))\n",
      "('Confidence 6:', array([0.00691432, 0.09811684, 0.01229925, 0.33787152, 0.1164887 ,\n",
      "       0.0153203 , 0.00472655, 0.15818872, 0.51124394, 0.07976712],\n",
      "      dtype=float32))\n",
      "('predictions', array([2, 2, 2, 6, 2, 2, 2, 6, 6, 2]))\n",
      "('Confidence 2:', array([0.9367463 , 0.40296355, 0.71797746, 0.27295557, 0.51933837,\n",
      "       0.88204086, 0.5090649 , 0.35395837, 0.241494  , 0.40442166],\n",
      "      dtype=float32))\n",
      "('Confidence 6:', array([0.03767741, 0.2623985 , 0.0711842 , 0.6070297 , 0.4252521 ,\n",
      "       0.10904191, 0.01428596, 0.41442767, 0.7240897 , 0.20450757],\n",
      "      dtype=float32))\n",
      "('predictions', array([2, 6, 2, 6, 6, 2, 2, 6, 6, 6]))\n",
      "('Confidence 2:', array([0.79891574, 0.27546573, 0.5153619 , 0.17649883, 0.2773622 ,\n",
      "       0.62154263, 0.44372576, 0.2100793 , 0.16032371, 0.2915768 ],\n",
      "      dtype=float32))\n",
      "('Confidence 6:', array([0.15120414, 0.469001  , 0.24084783, 0.72683847, 0.67117655,\n",
      "       0.36523938, 0.0370173 , 0.61998105, 0.8102205 , 0.35776424],\n",
      "      dtype=float32))\n",
      "('predictions', array([2, 6, 6, 6, 6, 6, 2, 6, 6, 6]))\n",
      "('Confidence 2:', array([0.5822426 , 0.18708   , 0.32503834, 0.13088872, 0.18120593,\n",
      "       0.35630515, 0.3953099 , 0.14072078, 0.12135024, 0.21550542],\n",
      "      dtype=float32))\n",
      "('Confidence 6:', array([0.3534952 , 0.62140197, 0.4724505 , 0.78878915, 0.77455854,\n",
      "       0.63086015, 0.08769158, 0.73130983, 0.8525611 , 0.5023778 ],\n",
      "      dtype=float32))\n",
      "('predictions', array([6, 6, 6, 6, 6, 6, 2, 6, 6, 6]))\n",
      "('Confidence 2:', array([0.39659527, 0.14035422, 0.19965367, 0.10489789, 0.1353722 ,\n",
      "       0.23650934, 0.31171423, 0.10484062, 0.0978832 , 0.16630086],\n",
      "      dtype=float32))\n",
      "('Confidence 6:', array([0.53796554, 0.7118394 , 0.6515455 , 0.8256265 , 0.825677  ,\n",
      "       0.7522149 , 0.18776193, 0.7908949 , 0.87862074, 0.608074  ],\n",
      "      dtype=float32))\n",
      "('predictions', array([6, 6, 6, 6, 6, 6, 6, 6, 6, 6]))\n",
      "('Confidence 2:', array([0.28023285, 0.11132338, 0.14263958, 0.08748892, 0.10850057,\n",
      "       0.1758397 , 0.24031681, 0.08416747, 0.08219117, 0.1300416 ],\n",
      "      dtype=float32))\n",
      "('Confidence 6:', array([0.6605777 , 0.7683885 , 0.7464808 , 0.85119355, 0.85667306,\n",
      "       0.8142832 , 0.32170078, 0.82755256, 0.8961178 , 0.6859421 ],\n",
      "      dtype=float32))\n",
      "('predictions', array([6, 6, 6, 6, 6, 6, 6, 6, 6, 6]))\n",
      "('Confidence 2:', array([0.21483892, 0.09140432, 0.10950858, 0.07552506, 0.09036087,\n",
      "       0.14240941, 0.1844337 , 0.06998536, 0.07066388, 0.10377699],\n",
      "      dtype=float32))\n",
      "('Confidence 6:', array([0.73419607, 0.80626076, 0.8022296 , 0.8693105 , 0.8782818 ,\n",
      "       0.84865236, 0.4487974 , 0.852744  , 0.90923584, 0.745135  ],\n",
      "      dtype=float32))\n"
     ]
    }
   ],
   "source": [
    "#Targeted attack using Fast gradient sign method inspired from http://blog.ycombinator.com/how-adversarial-attacks-work/#Targete \n",
    "# and http://karpathy.github.io/2015/03/30/breaking-convnets/\n",
    "adversarial_img = original_images.copy()\n",
    "for i in range(0, steps):\n",
    "    gradient = img_gradient.eval({x: adversarial_img, y_: target_labels, keep_prob: 1.0})\n",
    "    #Update using value of gradient\n",
    "    adversarial_img = adversarial_img - step_size * gradient\n",
    "    prediction = tf.argmax(y,1)\n",
    "    prediction_val = prediction.eval(feed_dict={x: adversarial_img, keep_prob: 1.0}, session=sess)\n",
    "    print(\"predictions\", prediction_val)\n",
    "    probabilities = y\n",
    "    probabilities_val = probabilities.eval(feed_dict={x: adversarial_img, keep_prob: 1.0}, session=sess)\n",
    "    print('Confidence 2:', probabilities_val[:, 2])\n",
    "    print('Confidence 6:', probabilities_val[:, 6])"
   ]
  },
  {
   "cell_type": "code",
   "execution_count": 20,
   "metadata": {},
   "outputs": [],
   "source": [
    "step_size  = 0.02\n",
    "steps = 10"
   ]
  },
  {
   "cell_type": "code",
   "execution_count": 21,
   "metadata": {},
   "outputs": [
    {
     "name": "stdout",
     "output_type": "stream",
     "text": [
      "('predictions', array([2, 2, 2, 2, 2, 2, 2, 2, 2, 2]))\n",
      "('Confidence 2:', array([0.9998708 , 0.9478486 , 0.99398005, 0.99743783, 0.9994808 ,\n",
      "       0.9998666 , 0.74250674, 0.97507024, 0.9951321 , 0.9795675 ],\n",
      "      dtype=float32))\n",
      "('Confidence 6:', array([2.8261031e-06, 4.6036276e-04, 5.9947347e-06, 1.5738267e-04,\n",
      "       3.5066976e-05, 2.1821083e-06, 3.3683020e-05, 8.4671701e-05,\n",
      "       1.2844393e-03, 1.0127047e-04], dtype=float32))\n",
      "('predictions', array([2, 2, 2, 2, 2, 2, 2, 2, 2, 2]))\n",
      "('Confidence 2:', array([0.99940276, 0.78895473, 0.98184574, 0.9862884 , 0.9970811 ,\n",
      "       0.9995939 , 0.5768852 , 0.9248792 , 0.9687421 , 0.9220613 ],\n",
      "      dtype=float32))\n",
      "('Confidence 6:', array([4.8540060e-05, 4.7836322e-03, 9.1942617e-05, 2.8167905e-03,\n",
      "       5.6420459e-04, 4.4314718e-05, 3.1380350e-04, 1.3861674e-03,\n",
      "       1.8831667e-02, 1.4716444e-03], dtype=float32))\n",
      "('predictions', array([2, 2, 2, 2, 2, 2, 2, 2, 2, 2]))\n",
      "('Confidence 2:', array([0.99686086, 0.6498545 , 0.943456  , 0.9173142 , 0.98090863,\n",
      "       0.99780935, 0.57919294, 0.80649185, 0.7986131 , 0.75302166],\n",
      "      dtype=float32))\n",
      "('Confidence 6:', array([0.00072635, 0.03983277, 0.00128982, 0.03748178, 0.00812219,\n",
      "       0.00078286, 0.00196647, 0.0153384 , 0.16770631, 0.012897  ],\n",
      "      dtype=float32))\n",
      "('predictions', array([2, 2, 2, 2, 2, 2, 2, 2, 6, 2]))\n",
      "('Confidence 2:', array([0.98410267, 0.43800685, 0.8395585 , 0.58287495, 0.88823   ,\n",
      "       0.98568094, 0.49427944, 0.6031928 , 0.34923488, 0.49531433],\n",
      "      dtype=float32))\n",
      "('Confidence 6:', array([0.00784289, 0.200037  , 0.01764019, 0.30249256, 0.07689577,\n",
      "       0.01019737, 0.00924414, 0.09887632, 0.6043841 , 0.0811952 ],\n",
      "      dtype=float32))\n",
      "('predictions', array([2, 6, 2, 6, 2, 2, 2, 6, 6, 2]))\n",
      "('Confidence 2:', array([0.9219592 , 0.22546859, 0.6775692 , 0.1549529 , 0.49519277,\n",
      "       0.9013407 , 0.42969778, 0.33049467, 0.06950589, 0.35286126],\n",
      "      dtype=float32))\n",
      "('Confidence 6:', array([0.05389979, 0.55485773, 0.11768822, 0.7464336 , 0.4327654 ,\n",
      "       0.08749186, 0.04663069, 0.41298905, 0.9078436 , 0.28647918],\n",
      "      dtype=float32))\n",
      "('predictions', array([2, 6, 6, 6, 6, 2, 2, 6, 6, 6]))\n",
      "('Confidence 2:', array([0.6793672 , 0.0753556 , 0.34843138, 0.03682016, 0.13878022,\n",
      "       0.57357025, 0.35149562, 0.09237353, 0.00890017, 0.17995869],\n",
      "      dtype=float32))\n",
      "('Confidence 6:', array([0.2701041 , 0.8433345 , 0.45146263, 0.92952317, 0.8108048 ,\n",
      "       0.41049132, 0.16069615, 0.79010725, 0.9852948 , 0.5873043 ],\n",
      "      dtype=float32))\n",
      "('predictions', array([6, 6, 6, 6, 6, 6, 6, 6, 6, 6]))\n",
      "('Confidence 2:', array([0.33307496, 0.01795179, 0.10552693, 0.00908872, 0.02365294,\n",
      "       0.17643854, 0.2305084 , 0.02237307, 0.00167001, 0.07109527],\n",
      "      dtype=float32))\n",
      "('Confidence 6:', array([0.61568004, 0.9567427 , 0.81557375, 0.98051137, 0.96029866,\n",
      "       0.8135457 , 0.39977953, 0.94557405, 0.99682546, 0.8263615 ],\n",
      "      dtype=float32))\n",
      "('predictions', array([6, 6, 6, 6, 6, 6, 6, 6, 6, 6]))\n",
      "('Confidence 2:', array([0.11330473, 0.00555215, 0.02095233, 0.00234557, 0.00453452,\n",
      "       0.04099976, 0.10175354, 0.00591383, 0.00037849, 0.02432939],\n",
      "      dtype=float32))\n",
      "('Confidence 6:', array([0.8619116 , 0.9877515 , 0.9617291 , 0.99456376, 0.9912669 ,\n",
      "       0.95479673, 0.68682414, 0.98500884, 0.9992256 , 0.93473464],\n",
      "      dtype=float32))\n",
      "('predictions', array([6, 6, 6, 6, 6, 6, 6, 6, 6, 6]))\n",
      "('Confidence 2:', array([3.5683464e-02, 1.6574257e-03, 4.3381583e-03, 6.0364342e-04,\n",
      "       1.2773041e-03, 7.5663282e-03, 4.3532662e-02, 1.3720731e-03,\n",
      "       8.0621656e-05, 6.5222131e-03], dtype=float32))\n",
      "('Confidence 6:', array([0.95330983, 0.995795  , 0.99147475, 0.9983546 , 0.9975163 ,\n",
      "       0.9911205 , 0.8692404 , 0.99625826, 0.99982244, 0.98257613],\n",
      "      dtype=float32))\n",
      "('predictions', array([6, 6, 6, 6, 6, 6, 6, 6, 6, 6]))\n",
      "('Confidence 2:', array([1.0692575e-02, 5.0500932e-04, 8.3468587e-04, 1.8872427e-04,\n",
      "       3.0064286e-04, 1.7681288e-03, 1.3613846e-02, 3.2632539e-04,\n",
      "       2.1942973e-05, 1.7899838e-03], dtype=float32))\n",
      "('Confidence 6:', array([0.9851585 , 0.99869734, 0.99793845, 0.99955136, 0.9993843 ,\n",
      "       0.9977223 , 0.9527165 , 0.99898297, 0.99994624, 0.9951314 ],\n",
      "      dtype=float32))\n"
     ]
    }
   ],
   "source": [
    "adversarial_img = original_images.copy()\n",
    "adv_img_hist = list()\n",
    "prob2_hist = list()\n",
    "prob6_hist = list()\n",
    "for i in range(0, steps):\n",
    "    gradient = img_gradient.eval({x: adversarial_img, y_: target_labels, keep_prob: 1.0})\n",
    "    # Update using sign of gradient and decreasing the step size\n",
    "    adversarial_img = adversarial_img - step_size * np.sign(gradient)\n",
    "    adv_img_hist.append(adversarial_img)\n",
    "    prediction = tf.argmax(y,1)\n",
    "    prediction_val = prediction.eval(feed_dict={x: adversarial_img, keep_prob: 1.0}, session=sess)\n",
    "    print(\"predictions\", prediction_val)\n",
    "    probabilities = y\n",
    "    probabilities_val = probabilities.eval(feed_dict = {x: adversarial_img, keep_prob: 1.0}, session=sess)\n",
    "    print('Confidence 2:', probabilities_val[:, 2])\n",
    "    print('Confidence 6:', probabilities_val[:, 6])\n",
    "prob2_hist.append(probabilities_val[:,2])\n",
    "prob6_hist.append(probabilities_val[:,6])"
   ]
  },
  {
   "cell_type": "code",
   "execution_count": 22,
   "metadata": {},
   "outputs": [
    {
     "name": "stdout",
     "output_type": "stream",
     "text": [
      "('Probability of 2 in selected samples ', [array([1.0692575e-02, 5.0500932e-04, 8.3468587e-04, 1.8872427e-04,\n",
      "       3.0064286e-04, 1.7681288e-03, 1.3613846e-02, 3.2632539e-04,\n",
      "       2.1942973e-05, 1.7899838e-03], dtype=float32)])\n",
      "('Probability of 6 in selected samples ', [array([0.9851585 , 0.99869734, 0.99793845, 0.99955136, 0.9993843 ,\n",
      "       0.9977223 , 0.9527165 , 0.99898297, 0.99994624, 0.9951314 ],\n",
      "      dtype=float32)])\n"
     ]
    }
   ],
   "source": [
    "print(\"Probability of 2 in selected samples \",prob2_hist)\n",
    "print(\"Probability of 6 in selected samples \",prob6_hist)"
   ]
  },
  {
   "cell_type": "code",
   "execution_count": 23,
   "metadata": {},
   "outputs": [
    {
     "data": {
      "image/png": "[encoded data removed]",
      "text/plain": [
       "<Figure size 360x1080 with 30 Axes>"
      ]
     },
     "metadata": {},
     "output_type": "display_data"
    }
   ],
   "source": [
    "# Generate the image of 10 samples with original_image, delta and adversarial image\n",
    "f, axarr = plt.subplots(10, 3, figsize=(5,15))\n",
    "import matplotlib as mpl\n",
    "mpl.rcParams['figure.dpi']= 250\n",
    "for i in range(10):\n",
    "    axarr[i,0].set_axis_off()\n",
    "    axarr[i,1].set_axis_off()\n",
    "    axarr[i,2].set_axis_off()\n",
    "    axarr[i,0].imshow(original_images[i].reshape([28, 28]), cmap = \"gray\")\n",
    "    axarr[i,1].imshow((adv_img_hist[0][i] - original_images[i]).reshape([28, 28]), cmap = \"gray\")\n",
    "    axarr[i,2].imshow((adv_img_hist[0][i]).reshape([28, 28]), cmap=\"gray\")\n",
    "    \n",
    "plt.tight_layout()\n",
    "plt.show()\n",
    "f.savefig(\"result.png\")"
   ]
  },
  {
   "cell_type": "code",
   "execution_count": 60,
   "metadata": {},
   "outputs": [],
   "source": []
  },
  {
   "cell_type": "code",
   "execution_count": null,
   "metadata": {},
   "outputs": [],
   "source": []
  }
 ],
 "metadata": {
  "kernelspec": {
   "display_name": "Python 2",
   "language": "python",
   "name": "python2"
  },
  "language_info": {
   "codemirror_mode": {
    "name": "ipython",
    "version": 2
   },
   "file_extension": ".py",
   "mimetype": "text/x-python",
   "name": "python",
   "nbconvert_exporter": "python",
   "pygments_lexer": "ipython2",
   "version": "2.7.15"
  }
 },
 "nbformat": 4,
 "nbformat_minor": 2
}
