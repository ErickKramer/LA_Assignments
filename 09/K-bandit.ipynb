{
 "cells": [
  {
   "cell_type": "markdown",
   "metadata": {},
   "source": [
    "1. Implement a simulation of the k-ardmed bandits environment with a variable value of k and a random p_i probabilities to obtain a reward of 0 or 1 from pulling each machine. Probabilities should be different each time you instance the environment."
   ]
  },
  {
   "cell_type": "code",
   "execution_count": 23,
   "metadata": {},
   "outputs": [
    {
     "name": "stdout",
     "output_type": "stream",
     "text": [
      " 0.33\n"
     ]
    }
   ],
   "source": [
    "print ('', np.round(0.33333, 2))"
   ]
  },
  {
   "cell_type": "code",
   "execution_count": 39,
   "metadata": {},
   "outputs": [],
   "source": [
    "import numpy as np\n",
    "import matplotlib.pyplot as plt\n",
    "import operator"
   ]
  },
  {
   "cell_type": "code",
   "execution_count": 61,
   "metadata": {},
   "outputs": [],
   "source": [
    "class Bandit:\n",
    "    def __init__(self, num_bandits):\n",
    "        self.k = num_bandits # Number of probabilities\n",
    "        self.p_i = np.round(np.random.random(),2)\n",
    "    \n",
    "    def bandits_prob(self):\n",
    "        self.probs = [ np.round(np.random.rand(),2) for i in range(self.k)]\n",
    "        best_bandit = np.argmax(self.probs)\n",
    "        print(' Probabilities calculated', self.probs)\n",
    "        print(' Best bandit is ', best_bandit+1)\n",
    "        \n",
    "    def assign_rewards(self):\n",
    "        rewards = [ 1 if (self.p_i < p) else 0  for p in self.probs]\n",
    "        print(' Rewards calculated', rewards)\n",
    "        return rewards\n"
   ]
  },
  {
   "cell_type": "code",
   "execution_count": 69,
   "metadata": {},
   "outputs": [],
   "source": [
    "class Agent:\n",
    "    def __init__(self, bandit, epsilon):\n",
    "        # epsilon to control the type of agent (Explorer or greedy)\n",
    "        self.epsilon = epsilon\n",
    "        # number of times action was chosen\n",
    "        self.n_actions = np.zeros(bandit.k, dtype=np.int) \n",
    "        # Estimated values? of what?\n",
    "        self.Q = np.zeros(bandit.k, dtype=np.float)\n",
    "    \n",
    "    # Update Q action-value based on the formula\n",
    "    # Q(a) = Q(a) + 1/(k+1) * (r(a) - Q(a))\n",
    "    def update_Q(self, action, rewards):\n",
    "        self.n_actions[action] += 1\n",
    "        self.Q[action] += (1./self.n_actions[action]) * (rewards[action] - self.Q[action])\n",
    "        \n",
    "    def choose_action(self, bandit, force_explore=False):\n",
    "        rand = np.round(np.random.random(),2)\n",
    "        if (rand < self.epsilon) or force_explore:\n",
    "            action_explore = np.random.randint(bandit.k) #Explore random bandits?\n",
    "            return action_explore\n",
    "        else:\n",
    "            action_greedy = np.random.choice(np.flatnonzero(self.Q == self.Q.max()))\n",
    "            return action_greedy       "
   ]
  },
  {
   "cell_type": "code",
   "execution_count": null,
   "metadata": {},
   "outputs": [],
   "source": [
    "def experiment(agent, bandit, N_episodes):\n",
    "        action_history = []\n",
    "        reward_history = []\n",
    "        \n",
    "        for episode in xrange(N_episodes):\n",
    "            # Choose action from agent \n",
    "            action = agent.choose_action(bandit)"
   ]
  },
  {
   "cell_type": "code",
   "execution_count": 68,
   "metadata": {},
   "outputs": [
    {
     "name": "stdout",
     "output_type": "stream",
     "text": [
      " Running bandits experiment with 10 bandits and agent with epsilon of 0.1\n",
      " Probabilities calculated [0.29, 0.32, 0.66, 0.25, 0.54, 0.48, 0.4, 0.43, 0.75, 0.41]\n",
      " Best bandit is  8\n"
     ]
    }
   ],
   "source": [
    "# --------------------- \n",
    "#  k-bandit simulation           \n",
    "# --------------------- \n",
    "\n",
    "# number of bandits\n",
    "num_bandits = 10\n",
    "epsilon = 0.1\n",
    "n_episodes = 100\n",
    "n_experiments = 100\n",
    "\n",
    "print(' Running bandits experiment with {} bandits and agent with epsilon of {}'.format(num_bandits, epsilon))\n",
    "\n",
    "# for i in xrange(n_experiments):\n",
    "\n",
    "# Single experiment for now\n",
    "\n",
    "bandit = Bandit(num_bandits) # Initialize bandits\n",
    "agent = Agent(bandit, epsilon) # Initialize agents\n",
    "\n",
    "# Create the probabilities of the bandits \n",
    "bandit.bandits_prob()\n",
    "# Assign all the rewards\n",
    "rewards = bandit.assign_rewards()\n",
    "\n",
    "# Do we need history?\n",
    "reward_history_avg = np.zeros(n_episodes)\n",
    "action_history_sum = np.zeros(n_episodes, num_bandits)\n",
    "\n"
   ]
  },
  {
   "cell_type": "code",
   "execution_count": 35,
   "metadata": {},
   "outputs": [
    {
     "name": "stdout",
     "output_type": "stream",
     "text": [
      " Bandit prob:  [0.56, 0.43, 0.85, 0.16, 0.87, 0.64, 0.37, 0.55, 0.64, 0.86]\n",
      " Random p_i:  0.53\n",
      " Rewards:  [1, 0, 1, 0, 1, 1, 0, 1, 1, 1]\n",
      " Best bandit is  4\n"
     ]
    }
   ],
   "source": [
    "# Number of bandits\n",
    "k = 10;\n",
    "\n",
    "# Stochastic probabilities\n",
    "bandit_probabilities = [ np.round(np.random.rand(),2) for i in range(k)]\n",
    "\n",
    "print(' Bandit prob: ', bandit_probabilities)\n",
    "\n",
    "# Threshold probabilities for rewards\n",
    "p_i = np.round(np.random.random(),2)\n",
    "\n",
    "# Assigning the rewards\n",
    "rewards = [ 1 if (p_i < p) else 0  for p in bandit_probabilities]\n",
    "print(' Random p_i: ', p_i)\n",
    "\n",
    "print(' Rewards: ', rewards)\n",
    "\n",
    "best_bandit = np.argmax(bandit_probabilities)\n",
    "\n",
    "print(' Best bandit is ', best_bandit)\n",
    "\n"
   ]
  }
 ],
 "metadata": {
  "kernelspec": {
   "display_name": "Python 3",
   "language": "python",
   "name": "python3"
  },
  "language_info": {
   "codemirror_mode": {
    "name": "ipython",
    "version": 3
   },
   "file_extension": ".py",
   "mimetype": "text/x-python",
   "name": "python",
   "nbconvert_exporter": "python",
   "pygments_lexer": "ipython3",
   "version": "3.5.2"
  }
 },
 "nbformat": 4,
 "nbformat_minor": 2
}
