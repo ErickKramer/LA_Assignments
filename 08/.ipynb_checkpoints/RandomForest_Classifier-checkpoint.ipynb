{
 "cells": [
  {
   "cell_type": "code",
   "execution_count": 1,
   "metadata": {},
   "outputs": [],
   "source": [
    "from sklearn.datasets import fetch_mldata\n",
    "import numpy as np\n",
    "import random\n",
    "from sklearn.ensemble import RandomForestClassifier\n",
    "from sklearn.ensemble import RandomForestRegressor\n",
    "import matplotlib.pyplot as plt\n",
    "import time\n",
    "\n",
    "import seaborn as sns; sns.set()\n"
   ]
  },
  {
   "cell_type": "code",
   "execution_count": 3,
   "metadata": {},
   "outputs": [
    {
     "name": "stdout",
     "output_type": "stream",
     "text": [
      "9.0\n"
     ]
    }
   ],
   "source": [
    "mnist = fetch_mldata('MNIST original')\n",
    "\n",
    "#Extract training and testing data\n",
    "ntrain = 60000\n",
    "ntest = 10000\n",
    "\n",
    "#Training and testing sets\n",
    "indices = np.arange(len(mnist.data))\n",
    "random.seed(0)\n",
    "\n",
    "train_idx = random.sample(list(indices),ntrain)\n",
    "test_idx = random.sample(list(indices),ntest)\n",
    "\n",
    "X_train, y_train = mnist.data[train_idx], mnist.target[train_idx]\n",
    "X_test, y_test = mnist.data[test_idx], mnist.target[test_idx]\n",
    "\n",
    "print(y_train[0])\n"
   ]
  },
  {
   "cell_type": "code",
   "execution_count": 4,
   "metadata": {},
   "outputs": [
    {
     "name": "stdout",
     "output_type": "stream",
     "text": [
      "21\n",
      "('My computer took: ', 394.2149999141693)\n"
     ]
    }
   ],
   "source": [
    "# Training random forest\n",
    "start_time = time.time()\n",
    "n_Estimators = np.hstack((np.arange(2,100,5),100))\n",
    "\n",
    "# Creating list of random forest with the different number of estimators\n",
    "list_clf = list()\n",
    "list_predictions = list()\n",
    "list_accuracies = list()\n",
    "list_probabilities = list()\n",
    "for i,estimators in enumerate(n_Estimators):\n",
    "    \n",
    "    #Create the random forest\n",
    "    list_clf.append(RandomForestClassifier(n_estimators=estimators, random_state=0))\n",
    "    \n",
    "    #Train the random forest\n",
    "    list_clf[i].fit(X_train,y_train)\n",
    "    \n",
    "    #Make a prediction of the labels\n",
    "    list_predictions.append(list_clf[i].predict(X_test))\n",
    "    \n",
    "    list_accuracies.append(list_clf[i].score(X_test,y_test))\n",
    "    \n",
    "    list_probabilities.append(list_clf[i].predict_proba(X_test))\n",
    "    \n",
    "print(len(list_clf))\n",
    "print(\"My computer took: \", time.time() - start_time)"
   ]
  },
  {
   "cell_type": "code",
   "execution_count": 101,
   "metadata": {},
   "outputs": [
    {
     "name": "stdout",
     "output_type": "stream",
     "text": [
      "[0.  0.  0.  0.  0.  0.  0.  0.5 0.  0.5]\n"
     ]
    }
   ],
   "source": [
    "#Back up of lists\n",
    "list_clf_bk = list_clf\n",
    "list_predictions_bk = list_predictions\n",
    "list_accuracies_bk = list_accuracies\n",
    "list_probabilities_bk = list_probabilities"
   ]
  },
  {
   "cell_type": "code",
   "execution_count": 6,
   "metadata": {},
   "outputs": [
    {
     "name": "stdout",
     "output_type": "stream",
     "text": [
      "('Number of trees: ', 2)\n",
      "('Accuracy: ', 0.9183)\n",
      "('Uncertainty for first test image: ', array([0. , 0. , 0. , 0. , 0. , 0. , 0. , 0.5, 0. , 0.5]))\n",
      "***********************************************************************\n",
      "('Number of trees: ', 7)\n",
      "('Accuracy: ', 0.9869)\n",
      "('Uncertainty for first test image: ', array([0.14285714, 0.        , 0.        , 0.        , 0.14285714,\n",
      "       0.        , 0.        , 0.14285714, 0.        , 0.57142857]))\n",
      "***********************************************************************\n",
      "('Number of trees: ', 12)\n",
      "('Accuracy: ', 0.9917)\n",
      "('Uncertainty for first test image: ', array([0.08333333, 0.        , 0.        , 0.        , 0.08333333,\n",
      "       0.        , 0.        , 0.08333333, 0.        , 0.75      ]))\n",
      "***********************************************************************\n",
      "('Number of trees: ', 17)\n",
      "('Accuracy: ', 0.9925)\n",
      "('Uncertainty for first test image: ', array([0.05882353, 0.        , 0.        , 0.        , 0.05882353,\n",
      "       0.05882353, 0.        , 0.05882353, 0.        , 0.76470588]))\n",
      "***********************************************************************\n",
      "('Number of trees: ', 22)\n",
      "('Accuracy: ', 0.9934)\n",
      "('Uncertainty for first test image: ', array([0.09090909, 0.        , 0.        , 0.        , 0.09090909,\n",
      "       0.04545455, 0.        , 0.04545455, 0.        , 0.72727273]))\n",
      "***********************************************************************\n",
      "('Number of trees: ', 27)\n",
      "('Accuracy: ', 0.9951)\n",
      "('Uncertainty for first test image: ', array([0.07407407, 0.        , 0.        , 0.        , 0.07407407,\n",
      "       0.07407407, 0.        , 0.07407407, 0.        , 0.7037037 ]))\n",
      "***********************************************************************\n",
      "('Number of trees: ', 32)\n",
      "('Accuracy: ', 0.9953)\n",
      "('Uncertainty for first test image: ', array([0.0625, 0.    , 0.    , 0.    , 0.0625, 0.0625, 0.    , 0.0625,\n",
      "       0.    , 0.75  ]))\n",
      "***********************************************************************\n",
      "('Number of trees: ', 37)\n",
      "('Accuracy: ', 0.9949)\n",
      "('Uncertainty for first test image: ', array([0.05405405, 0.        , 0.        , 0.        , 0.05405405,\n",
      "       0.08108108, 0.        , 0.05405405, 0.        , 0.75675676]))\n",
      "***********************************************************************\n",
      "('Number of trees: ', 42)\n",
      "('Accuracy: ', 0.995)\n",
      "('Uncertainty for first test image: ', array([0.04761905, 0.        , 0.        , 0.        , 0.04761905,\n",
      "       0.07142857, 0.        , 0.0952381 , 0.        , 0.73809524]))\n",
      "***********************************************************************\n",
      "('Number of trees: ', 47)\n",
      "('Accuracy: ', 0.9948)\n",
      "('Uncertainty for first test image: ', array([0.04255319, 0.        , 0.        , 0.        , 0.04255319,\n",
      "       0.06382979, 0.        , 0.10638298, 0.        , 0.74468085]))\n",
      "***********************************************************************\n",
      "('Number of trees: ', 52)\n",
      "('Accuracy: ', 0.9949)\n",
      "('Uncertainty for first test image: ', array([0.03846154, 0.        , 0.        , 0.        , 0.03846154,\n",
      "       0.05769231, 0.        , 0.09615385, 0.        , 0.76923077]))\n",
      "***********************************************************************\n",
      "('Number of trees: ', 57)\n",
      "('Accuracy: ', 0.995)\n",
      "('Uncertainty for first test image: ', array([0.03508772, 0.        , 0.        , 0.        , 0.03508772,\n",
      "       0.05263158, 0.        , 0.10526316, 0.        , 0.77192982]))\n",
      "***********************************************************************\n",
      "('Number of trees: ', 62)\n",
      "('Accuracy: ', 0.9952)\n",
      "('Uncertainty for first test image: ', array([0.03225806, 0.        , 0.        , 0.        , 0.03225806,\n",
      "       0.0483871 , 0.        , 0.09677419, 0.        , 0.79032258]))\n",
      "***********************************************************************\n",
      "('Number of trees: ', 67)\n",
      "('Accuracy: ', 0.9949)\n",
      "('Uncertainty for first test image: ', array([0.02985075, 0.        , 0.        , 0.        , 0.02985075,\n",
      "       0.05970149, 0.        , 0.10447761, 0.01492537, 0.76119403]))\n",
      "***********************************************************************\n",
      "('Number of trees: ', 72)\n",
      "('Accuracy: ', 0.9951)\n",
      "('Uncertainty for first test image: ', array([0.04166667, 0.        , 0.        , 0.        , 0.02777778,\n",
      "       0.05555556, 0.        , 0.11111111, 0.01388889, 0.75      ]))\n",
      "***********************************************************************\n",
      "('Number of trees: ', 77)\n",
      "('Accuracy: ', 0.9949)\n",
      "('Uncertainty for first test image: ', array([0.03896104, 0.        , 0.        , 0.        , 0.02597403,\n",
      "       0.06493506, 0.        , 0.1038961 , 0.01298701, 0.75324675]))\n",
      "***********************************************************************\n",
      "('Number of trees: ', 82)\n",
      "('Accuracy: ', 0.9951)\n",
      "('Uncertainty for first test image: ', array([0.03658537, 0.        , 0.        , 0.        , 0.02439024,\n",
      "       0.06097561, 0.        , 0.1097561 , 0.01219512, 0.75609756]))\n",
      "***********************************************************************\n",
      "('Number of trees: ', 87)\n",
      "('Accuracy: ', 0.9952)\n",
      "('Uncertainty for first test image: ', array([0.04597701, 0.        , 0.        , 0.        , 0.02298851,\n",
      "       0.05747126, 0.        , 0.11494253, 0.01149425, 0.74712644]))\n",
      "***********************************************************************\n",
      "('Number of trees: ', 92)\n",
      "('Accuracy: ', 0.9951)\n",
      "('Uncertainty for first test image: ', array([0.04347826, 0.        , 0.        , 0.        , 0.02173913,\n",
      "       0.05434783, 0.        , 0.11956522, 0.02173913, 0.73913043]))\n",
      "***********************************************************************\n",
      "('Number of trees: ', 97)\n",
      "('Accuracy: ', 0.9951)\n",
      "('Uncertainty for first test image: ', array([0.04123711, 0.        , 0.        , 0.        , 0.02061856,\n",
      "       0.05154639, 0.        , 0.12371134, 0.02061856, 0.74226804]))\n",
      "***********************************************************************\n",
      "('Number of trees: ', 100)\n",
      "('Accuracy: ', 0.995)\n",
      "('Uncertainty for first test image: ', array([0.04, 0.  , 0.  , 0.  , 0.02, 0.05, 0.  , 0.13, 0.02, 0.74]))\n",
      "***********************************************************************\n"
     ]
    }
   ],
   "source": [
    "# Printing results\n",
    "# For the first test image\n",
    "for i in range(len(list_clf)):\n",
    "    print(\"Number of trees: \", n_Estimators[i])\n",
    "    print(\"Accuracy: \", list_accuracies[i])\n",
    "    print(\"Uncertainty for first test image: \",list_probabilities[i][0])\n",
    "    print(\"***********************************************************************\")"
   ]
  },
  {
   "cell_type": "markdown",
   "metadata": {},
   "source": [
    "##### Does the accuracy and uncertainty improve by having more members in each ensemble?\n",
    "\n",
    "* Yes, the accuraccy increases as the number of members in each ensemble increases. While the uncertainity decreases with increase in the number of members of each ensemble.\n",
    "\n",
    "\n",
    "* The rationale of Ensembles is that complex models have high variance and averaging many of them contributes to reducing it. In principle a complex model is able to perfectly learn the true function, but this is also its drawback. In practice it adapts to much to the subset of the data that is seeing, thus several complex model that are trained with different subset of the data display high variability in the resulting model. This type of problem can be addressed by averaging many complex models as Rnadom Forest does: it builds a large ensemble of trees and then averages their prediction to obtain a final model.\n",
    "\n",
    "\n",
    "* Hence we can conclude that by each tree perfectly learns only one feature in the input data, thus by having more trees in the forest we ensure that more features are learnt and by averaging the variance for each such tree we basically reduce the amount of uncertainity in the predicted value for the test image as we now have more number of learnt features.  \n",
    "\n",
    "Citation: https://www.add-for.com/2016/03/22/ensemble-methods-random-forests/\n",
    "\n"
   ]
  },
  {
   "cell_type": "code",
   "execution_count": 105,
   "metadata": {},
   "outputs": [
    {
     "data": {
      "image/png": "[encoded data removed]",
      "text/plain": [
       "<Figure size 432x288 with 1 Axes>"
      ]
     },
     "metadata": {},
     "output_type": "display_data"
    },
    {
     "name": "stdout",
     "output_type": "stream",
     "text": [
      "====================================================================================================================\n",
      "Class prediction probabilities in the first ensemble with only two trees [0. 0. 1. 0. 0. 0. 0. 0. 0. 0.]\n",
      "Accuracy for the first ensemble 0.9183\n",
      "====================================================================================================================\n",
      "Class prediction probabilities in the first ensemble with 100 trees [0.01 0.   0.98 0.   0.   0.01 0.   0.   0.   0.  ]\n",
      "Accuracy for the first ensemble 0.995\n"
     ]
    },
    {
     "data": {
      "text/plain": [
       "[<matplotlib.lines.Line2D at 0x97c044a8>]"
      ]
     },
     "execution_count": 105,
     "metadata": {},
     "output_type": "execute_result"
    },
    {
     "data": {
      "image/png": "[encoded data removed]",
      "text/plain": [
       "<Figure size 864x720 with 2 Axes>"
      ]
     },
     "metadata": {},
     "output_type": "display_data"
    }
   ],
   "source": [
    "plt.imshow(X_test[1].reshape(28,28), cmap = 'gist_gray')\n",
    "plt.show()\n",
    "print '===================================================================================================================='\n",
    "print \"Class prediction probabilities in the first ensemble with only two trees\",list_probabilities[0][1]\n",
    "print \"Accuracy for the first ensemble\",list_accuracies[0]\n",
    "print '===================================================================================================================='\n",
    "print \"Class prediction probabilities in the first ensemble with 100 trees\",list_probabilities[20][1]\n",
    "print \"Accuracy for the first ensemble\",list_accuracies[20]\n",
    "                                            \n",
    "fig = plt.figure(figsize=(12,10))\n",
    "plt.subplot(2,2,1)\n",
    "plt.step(x_axis, pred_single_img[0])\n",
    "plt.subplot(2,2,2)\n",
    "plt.step(x_axis, pred_single_img20[0])\n"
   ]
  },
  {
   "cell_type": "code",
   "execution_count": 63,
   "metadata": {},
   "outputs": [
    {
     "name": "stdout",
     "output_type": "stream",
     "text": [
      "[  2   7  12  17  22  27  32  37  42  47  52  57  62  67  72  77  82  87\n",
      "  92  97 100]\n"
     ]
    }
   ],
   "source": [
    "print(n_Estimators)"
   ]
  },
  {
   "cell_type": "code",
   "execution_count": 8,
   "metadata": {},
   "outputs": [
    {
     "data": {
      "text/plain": [
       "Text(0.5,1,'Number of trees: 100')"
      ]
     },
     "execution_count": 8,
     "metadata": {},
     "output_type": "execute_result"
    },
    {
     "data": {
      "image/png": "[encoded data removed]",
      "text/plain": [
       "<Figure size 864x720 with 4 Axes>"
      ]
     },
     "metadata": {},
     "output_type": "display_data"
    }
   ],
   "source": [
    "# Histogram part for a sample of ensembles for the first test image\n",
    "image = X_test[0]\n",
    "x_axis = np.arange(0,10)\n",
    "fig = plt.figure(figsize=(12,10))\n",
    "plt.subplot(2,2,1)\n",
    "plt.step(x_axis, list_probabilities[0][0])\n",
    "plt.xlabel('Clases')\n",
    "plt.ylabel('Probability')\n",
    "plt.title('Number of trees: 2')\n",
    "\n",
    "plt.subplot(2,2,2)\n",
    "plt.step(x_axis, list_probabilities[4][0])\n",
    "plt.xlabel('Clases')\n",
    "plt.ylabel('Probability')\n",
    "plt.title('Number of trees: 22')\n",
    "\n",
    "plt.subplot(2,2,3)\n",
    "plt.step(x_axis, list_probabilities[10][0])\n",
    "plt.xlabel('Clases')\n",
    "plt.ylabel('Probability')\n",
    "plt.title('Number of trees: 52')\n",
    "\n",
    "plt.subplot(2,2,4)\n",
    "plt.step(x_axis, list_probabilities[-1][0])\n",
    "plt.xlabel('Clases')\n",
    "plt.ylabel('Probability')\n",
    "plt.title('Number of trees: 100')"
   ]
  },
  {
   "cell_type": "markdown",
   "metadata": {},
   "source": [
    "4- Using a single ensemble of your choosing, find the misclassified examples in the test set and analyze the uncertainity of those examples. Can the uncertainty explain why those examples are misclassified?. "
   ]
  },
  {
   "cell_type": "code",
   "execution_count": 9,
   "metadata": {},
   "outputs": [
    {
     "name": "stdout",
     "output_type": "stream",
     "text": [
      "51\n"
     ]
    }
   ],
   "source": [
    "forest_52 = list_clf[10]\n",
    "predictions_52 = list_predictions[10]\n",
    "proba_52 = list_probabilities[10]\n",
    "\n",
    "misclassified_idx = []\n",
    "for i in range(len(y_test)):\n",
    "    if predictions_52[i] != y_test[i]:\n",
    "        misclassified_idx.append(i)\n",
    "        \n",
    "print(len(misclassified_idx))"
   ]
  },
  {
   "cell_type": "code",
   "execution_count": 10,
   "metadata": {},
   "outputs": [
    {
     "name": "stdout",
     "output_type": "stream",
     "text": [
      "('Predicted class: ', 7.0)\n",
      "('True class: ', 7.0)\n",
      "[1.0, 0.0]\n"
     ]
    }
   ],
   "source": [
    "print(\"Predicted class: \", predictions_52[674])\n",
    "print(\"True class: \", y_test[674])\n",
    "a = sorted(proba_52[674], reverse=True)\n",
    "print(a[0:2])"
   ]
  },
  {
   "cell_type": "code",
   "execution_count": 11,
   "metadata": {},
   "outputs": [],
   "source": [
    "#Sushma plot histogram :)\n"
   ]
  },
  {
   "cell_type": "code",
   "execution_count": 12,
   "metadata": {},
   "outputs": [],
   "source": [
    "def plot_hist(ensemble,image):\n",
    "    predicted_classes = []\n",
    "    for i,estimator in enumerate(ensemble.estimators_):\n",
    "        predicted_classes.append(estimator.predict_proba(np.reshape(image,(1,-1)))[0])\n",
    "    return predicted_classes"
   ]
  },
  {
   "cell_type": "code",
   "execution_count": 39,
   "metadata": {},
   "outputs": [
    {
     "name": "stdout",
     "output_type": "stream",
     "text": [
      "[array([0., 0., 0., 0., 0., 0., 0., 0., 0., 1.]), array([0., 0., 0., 0., 0., 0., 0., 1., 0., 0.])]\n"
     ]
    },
    {
     "data": {
      "image/png": "[encoded data removed]",
      "text/plain": [
       "<Figure size 432x288 with 1 Axes>"
      ]
     },
     "metadata": {},
     "output_type": "display_data"
    },
    {
     "data": {
      "image/png": "[encoded data removed]",
      "text/plain": [
       "<Figure size 432x288 with 1 Axes>"
      ]
     },
     "metadata": {},
     "output_type": "display_data"
    }
   ],
   "source": [
    "# #Prediction of a single tree in the forest for that particular image\n",
    "# Ensemble of 2 trees\n",
    "predicted_classes = plot_hist(list_clf[0], X_test[0])\n",
    "# predicted_classes[1] = np.array([0,0,0,0,0,1,0,0,0,0])\n",
    "print(predicted_classes)\n",
    "plt.step(np.arange(0,10),predicted_classes[1])\n",
    "plt.show()\n",
    "plt.step(np.arange(0,10),predicted_classes[0])\n",
    "plt.show()\n",
    "# plt.step(np.arange(0,10),np.mean(predicted_classes,0))\n",
    "# # Ensemble of 22\n",
    "# ensemble = list_clf[4]\n",
    "# # Ensemble of 52\n",
    "# ensemble = list_clf[10]\n",
    "# #Ensemble of 100 trees\n",
    "# ensemble = list_clf[-1]]\n",
    "\n",
    "# list_clf[20].estimators_[0].predict_proba(np.reshape(X_test[0],(1,-1)))[0]"
   ]
  },
  {
   "cell_type": "code",
   "execution_count": 2,
   "metadata": {},
   "outputs": [
    {
     "data": {
      "text/plain": [
       "RandomForestRegressor(bootstrap=True, criterion='mse', max_depth=None,\n",
       "           max_features='auto', max_leaf_nodes=None,\n",
       "           min_impurity_decrease=0.0, min_impurity_split=None,\n",
       "           min_samples_leaf=1, min_samples_split=2,\n",
       "           min_weight_fraction_leaf=0.0, n_estimators=20, n_jobs=1,\n",
       "           oob_score=False, random_state=0, verbose=0, warm_start=False)"
      ]
     },
     "execution_count": 2,
     "metadata": {},
     "output_type": "execute_result"
    }
   ],
   "source": [
    "\n",
    "x_train = np.linspace(-4,4, 1000)\n",
    "noise = np.random.normal(0,3**2,1000)\n",
    "y_train = x_train**3 + noise\n",
    "x_train = x_train.reshape((-1,1))\n",
    "crf = RandomForestRegressor(n_estimators=20, random_state=0)\n",
    "crf.fit(x_train,y_train)"
   ]
  },
  {
   "cell_type": "code",
   "execution_count": 3,
   "metadata": {},
   "outputs": [],
   "source": [
    "test_values = np.linspace(-6,6, 100)\n",
    "\n",
    "y_predict = crf.predict(test_values.reshape(-1,1))\n",
    "\n",
    "\n",
    "mean_val = []\n",
    "std_dev = []\n",
    "for data in test_values:\n",
    "    estimated_y = []\n",
    "    for i in range(len(crf.estimators_)):\n",
    "        estimated_y.append(crf.estimators_[i].predict(data)[0])\n",
    "    var = np.var(estimated_y)\n",
    "    mean_val.append(np.mean(estimated_y))\n",
    "    std_dev.append(np.sqrt(var))\n",
    "\n"
   ]
  },
  {
   "cell_type": "code",
   "execution_count": 16,
   "metadata": {},
   "outputs": [],
   "source": [
    "def plots(x_train,y_train, x_test,y_pred, ml, std_dev):\n",
    "    #plotting\n",
    "    figure = plt.figure(figsize=(15,5))\n",
    "    mean_list = np.array(ml)\n",
    "    stds = np.array(std_dev)\n",
    "    x = np.linspace(-6,6,1000)\n",
    "    y = x**3\n",
    "    figure.add_subplot(1, 2, 1)\n",
    "    plt.plot(x,y, c = 'b')\n",
    "    plt.scatter(x_train,y_train,c = 'r', s=2.4, marker='8')\n",
    "    plt.scatter(x_test,y_pred,c = 'k', s=2.3)\n",
    "    plt.legend(['Ground truth','Train data','Test prediction'], loc=0)\n",
    "    \n",
    "    figure.add_subplot(1, 2, 2)\n",
    "    plt.plot(x,y, c = 'b')\n",
    "    plt.scatter(x_test,y_pred,c = 'k',s=4)\n",
    "    plt.fill_between(np.linspace(-6,6,100),mean_list-3*stds, \\\n",
    "                     mean_list+3*stds, alpha=.5, color = '#595959')\n",
    "    plt.legend(['Ground truth','Train data','Uncertainty'], loc=0)\n",
    "plt.show()"
   ]
  },
  {
   "cell_type": "code",
   "execution_count": 17,
   "metadata": {},
   "outputs": [
    {
     "data": {
      "image/png": "[encoded data removed]",
      "text/plain": [
       "<Figure size 1080x360 with 2 Axes>"
      ]
     },
     "metadata": {},
     "output_type": "display_data"
    }
   ],
   "source": [
    "plots(x_train,y_train,test_values, y_predict, mean_val, std_dev)"
   ]
  },
  {
   "cell_type": "code",
   "execution_count": null,
   "metadata": {},
   "outputs": [],
   "source": []
  }
 ],
 "metadata": {
  "kernelspec": {
   "display_name": "Python 2",
   "language": "python",
   "name": "python2"
  },
  "language_info": {
   "codemirror_mode": {
    "name": "ipython",
    "version": 2
   },
   "file_extension": ".py",
   "mimetype": "text/x-python",
   "name": "python",
   "nbconvert_exporter": "python",
   "pygments_lexer": "ipython2",
   "version": "2.7.15"
  }
 },
 "nbformat": 4,
 "nbformat_minor": 2
}
